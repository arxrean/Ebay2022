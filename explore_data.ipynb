{
 "cells": [
  {
   "cell_type": "code",
   "execution_count": 1,
   "id": "d7622f41",
   "metadata": {},
   "outputs": [],
   "source": [
    "import os\n",
    "import collections\n",
    "import pandas as pd\n",
    "import numpy as np\n",
    "from sklearn.model_selection import train_test_split"
   ]
  },
  {
   "cell_type": "code",
   "execution_count": 127,
   "id": "87513879",
   "metadata": {},
   "outputs": [],
   "source": [
    "columns = open('./dataset/ebay/Train_Tagged_Titles.tsv').readlines()[0].strip().split('\\t')\n",
    "data = []\n",
    "for line in open('./dataset/ebay/Train_Tagged_Titles.tsv').readlines()[1:]:\n",
    "    data.append(line.strip().split('\\t'))\n",
    "train = pd.DataFrame(data, columns=columns)"
   ]
  },
  {
   "cell_type": "code",
   "execution_count": 128,
   "id": "bb768eee",
   "metadata": {},
   "outputs": [
    {
     "data": {
      "text/html": [
       "<div>\n",
       "<style scoped>\n",
       "    .dataframe tbody tr th:only-of-type {\n",
       "        vertical-align: middle;\n",
       "    }\n",
       "\n",
       "    .dataframe tbody tr th {\n",
       "        vertical-align: top;\n",
       "    }\n",
       "\n",
       "    .dataframe thead th {\n",
       "        text-align: right;\n",
       "    }\n",
       "</style>\n",
       "<table border=\"1\" class=\"dataframe\">\n",
       "  <thead>\n",
       "    <tr style=\"text-align: right;\">\n",
       "      <th></th>\n",
       "      <th>Record Number</th>\n",
       "      <th>Title</th>\n",
       "      <th>Token</th>\n",
       "      <th>Tag</th>\n",
       "    </tr>\n",
       "  </thead>\n",
       "  <tbody>\n",
       "    <tr>\n",
       "      <th>0</th>\n",
       "      <td>1</td>\n",
       "      <td>LOUIS VUITTON M40096 Handbag Priscilla Multi-c...</td>\n",
       "      <td>LOUIS</td>\n",
       "      <td>Brand</td>\n",
       "    </tr>\n",
       "    <tr>\n",
       "      <th>1</th>\n",
       "      <td>1</td>\n",
       "      <td>LOUIS VUITTON M40096 Handbag Priscilla Multi-c...</td>\n",
       "      <td>VUITTON</td>\n",
       "      <td>None</td>\n",
       "    </tr>\n",
       "    <tr>\n",
       "      <th>2</th>\n",
       "      <td>1</td>\n",
       "      <td>LOUIS VUITTON M40096 Handbag Priscilla Multi-c...</td>\n",
       "      <td>M40096</td>\n",
       "      <td>MPN</td>\n",
       "    </tr>\n",
       "    <tr>\n",
       "      <th>3</th>\n",
       "      <td>1</td>\n",
       "      <td>LOUIS VUITTON M40096 Handbag Priscilla Multi-c...</td>\n",
       "      <td>Handbag</td>\n",
       "      <td>Type</td>\n",
       "    </tr>\n",
       "    <tr>\n",
       "      <th>4</th>\n",
       "      <td>1</td>\n",
       "      <td>LOUIS VUITTON M40096 Handbag Priscilla Multi-c...</td>\n",
       "      <td>Priscilla</td>\n",
       "      <td>Model</td>\n",
       "    </tr>\n",
       "  </tbody>\n",
       "</table>\n",
       "</div>"
      ],
      "text/plain": [
       "  Record Number                                              Title      Token  \\\n",
       "0             1  LOUIS VUITTON M40096 Handbag Priscilla Multi-c...      LOUIS   \n",
       "1             1  LOUIS VUITTON M40096 Handbag Priscilla Multi-c...    VUITTON   \n",
       "2             1  LOUIS VUITTON M40096 Handbag Priscilla Multi-c...     M40096   \n",
       "3             1  LOUIS VUITTON M40096 Handbag Priscilla Multi-c...    Handbag   \n",
       "4             1  LOUIS VUITTON M40096 Handbag Priscilla Multi-c...  Priscilla   \n",
       "\n",
       "     Tag  \n",
       "0  Brand  \n",
       "1   None  \n",
       "2    MPN  \n",
       "3   Type  \n",
       "4  Model  "
      ]
     },
     "execution_count": 128,
     "metadata": {},
     "output_type": "execute_result"
    }
   ],
   "source": [
    "train.head()"
   ]
  },
  {
   "cell_type": "code",
   "execution_count": 129,
   "id": "8c9812c1",
   "metadata": {},
   "outputs": [
    {
     "data": {
      "text/plain": [
       "<AxesSubplot:xlabel='Tag'>"
      ]
     },
     "execution_count": 129,
     "metadata": {},
     "output_type": "execute_result"
    },
    {
     "data": {
      "image/png": "[encoded data removed]",
      "text/plain": [
       "<Figure size 432x288 with 1 Axes>"
      ]
     },
     "metadata": {
      "needs_background": "light"
     },
     "output_type": "display_data"
    }
   ],
   "source": [
    "train.groupby('Tag').size().plot.bar()"
   ]
  },
  {
   "cell_type": "code",
   "execution_count": 130,
   "id": "cc5c9cc5",
   "metadata": {},
   "outputs": [],
   "source": [
    "train['fill'] = 0"
   ]
  },
  {
   "cell_type": "code",
   "execution_count": 131,
   "id": "4431f746",
   "metadata": {},
   "outputs": [],
   "source": [
    "train.loc[train['Tag'].isnull(), 'fill'] = 1"
   ]
  },
  {
   "cell_type": "code",
   "execution_count": 132,
   "id": "aa07e9e9",
   "metadata": {},
   "outputs": [],
   "source": [
    "train = train.fillna('UNK')"
   ]
  },
  {
   "cell_type": "code",
   "execution_count": 133,
   "id": "083a5a94",
   "metadata": {},
   "outputs": [
    {
     "data": {
      "text/html": [
       "<div>\n",
       "<style scoped>\n",
       "    .dataframe tbody tr th:only-of-type {\n",
       "        vertical-align: middle;\n",
       "    }\n",
       "\n",
       "    .dataframe tbody tr th {\n",
       "        vertical-align: top;\n",
       "    }\n",
       "\n",
       "    .dataframe thead th {\n",
       "        text-align: right;\n",
       "    }\n",
       "</style>\n",
       "<table border=\"1\" class=\"dataframe\">\n",
       "  <thead>\n",
       "    <tr style=\"text-align: right;\">\n",
       "      <th></th>\n",
       "      <th>Record Number</th>\n",
       "      <th>Title</th>\n",
       "      <th>Token</th>\n",
       "      <th>Tag</th>\n",
       "      <th>fill</th>\n",
       "    </tr>\n",
       "  </thead>\n",
       "  <tbody>\n",
       "    <tr>\n",
       "      <th>0</th>\n",
       "      <td>1</td>\n",
       "      <td>LOUIS VUITTON M40096 Handbag Priscilla Multi-c...</td>\n",
       "      <td>LOUIS</td>\n",
       "      <td>Brand</td>\n",
       "      <td>0</td>\n",
       "    </tr>\n",
       "    <tr>\n",
       "      <th>1</th>\n",
       "      <td>1</td>\n",
       "      <td>LOUIS VUITTON M40096 Handbag Priscilla Multi-c...</td>\n",
       "      <td>VUITTON</td>\n",
       "      <td>UNK</td>\n",
       "      <td>1</td>\n",
       "    </tr>\n",
       "    <tr>\n",
       "      <th>2</th>\n",
       "      <td>1</td>\n",
       "      <td>LOUIS VUITTON M40096 Handbag Priscilla Multi-c...</td>\n",
       "      <td>M40096</td>\n",
       "      <td>MPN</td>\n",
       "      <td>0</td>\n",
       "    </tr>\n",
       "    <tr>\n",
       "      <th>3</th>\n",
       "      <td>1</td>\n",
       "      <td>LOUIS VUITTON M40096 Handbag Priscilla Multi-c...</td>\n",
       "      <td>Handbag</td>\n",
       "      <td>Type</td>\n",
       "      <td>0</td>\n",
       "    </tr>\n",
       "    <tr>\n",
       "      <th>4</th>\n",
       "      <td>1</td>\n",
       "      <td>LOUIS VUITTON M40096 Handbag Priscilla Multi-c...</td>\n",
       "      <td>Priscilla</td>\n",
       "      <td>Model</td>\n",
       "      <td>0</td>\n",
       "    </tr>\n",
       "  </tbody>\n",
       "</table>\n",
       "</div>"
      ],
      "text/plain": [
       "  Record Number                                              Title      Token  \\\n",
       "0             1  LOUIS VUITTON M40096 Handbag Priscilla Multi-c...      LOUIS   \n",
       "1             1  LOUIS VUITTON M40096 Handbag Priscilla Multi-c...    VUITTON   \n",
       "2             1  LOUIS VUITTON M40096 Handbag Priscilla Multi-c...     M40096   \n",
       "3             1  LOUIS VUITTON M40096 Handbag Priscilla Multi-c...    Handbag   \n",
       "4             1  LOUIS VUITTON M40096 Handbag Priscilla Multi-c...  Priscilla   \n",
       "\n",
       "     Tag  fill  \n",
       "0  Brand     0  \n",
       "1    UNK     1  \n",
       "2    MPN     0  \n",
       "3   Type     0  \n",
       "4  Model     0  "
      ]
     },
     "execution_count": 133,
     "metadata": {},
     "output_type": "execute_result"
    }
   ],
   "source": [
    "train.head()"
   ]
  },
  {
   "cell_type": "code",
   "execution_count": 134,
   "id": "e65d2252",
   "metadata": {},
   "outputs": [],
   "source": [
    "# idxes = train[train['fill']==1].index\n",
    "# start = []\n",
    "# for idx in idxes:\n",
    "#     while train.loc[idx, 'fill'] != 0:\n",
    "#         idx -= 1\n",
    "#     start.append(idx)\n",
    "# start = list(set(start))\n",
    "# combs = []\n",
    "# for s in start:\n",
    "#     comb = []\n",
    "#     while train.loc[s+1, 'fill'] == 1:\n",
    "#         comb.append(train.loc[s, 'Token'])\n",
    "#         s += 1\n",
    "#     comb.append(train.loc[s, 'Token'])\n",
    "#     combs.append((' '.join(comb), train.loc[s, 'Tag']))\n",
    "# combs = list(set(combs))\n",
    "# combs = pd.DataFrame(combs, columns=['token', 'tag'])\n",
    "# combs['token'] = combs['token'].str.lower()\n",
    "# combs = combs.drop_duplicates()\n",
    "# combs['size'] = combs['token'].map(combs.groupby('token').size().to_dict())\n",
    "# combs = combs[combs['size']==1].drop(columns=['size']).reset_index(drop=True)\n",
    "# combs['size'] = combs['token'].str.split().str.len()"
   ]
  },
  {
   "cell_type": "code",
   "execution_count": 135,
   "id": "a5db46d6",
   "metadata": {},
   "outputs": [],
   "source": [
    "# combs.to_csv('./dataset/ebay/combs_in_train.csv', index=False)"
   ]
  },
  {
   "cell_type": "code",
   "execution_count": 137,
   "id": "a45b23ca",
   "metadata": {},
   "outputs": [
    {
     "name": "stdout",
     "output_type": "stream",
     "text": [
      "- # of unique titles: 5000\n",
      "- # of tokens: 55121\n",
      "- # of unique tokens: 8952\n",
      "- # of unique tags: 33\n",
      "- max tokens: 22, min tokens: 1, avg tokens: 11.0242\n",
      "- 33 tags: ['Brand', 'UNK', 'MPN', 'Type', 'Model', 'Color', 'Fabric Type', 'Closure', 'Pattern', 'Material', 'No Tag', 'Product Line', 'Features', 'Theme', 'Country/Region of Manufacture', 'Occasion', 'Department', 'Size', 'Handle/Strap Material', 'Handle Style', 'Accents', 'Style', 'Hardware Material', 'Trim Material', 'Measurement, dimension', 'Pocket Type', 'Character', 'Obscure', 'Season', 'Character Family', 'Lining Material', 'Strap Drop', 'Handle Drop']\n"
     ]
    }
   ],
   "source": [
    "print(f\"- # of unique titles: {train['Title'].nunique()}\")\n",
    "print(f\"- # of tokens: {len(train)}\")\n",
    "print(f\"- # of unique tokens: {train['Token'].nunique()}\")\n",
    "print(f\"- # of unique tags: {train['Tag'].nunique()}\")\n",
    "print(f\"- max tokens: {train.groupby('Record Number').size().max()}, min tokens: {train.groupby('Record Number').size().min()}, avg tokens: {train.groupby('Record Number').size().mean()}\")\n",
    "print(f\"- {train['Tag'].nunique()} tags: {train['Tag'].unique().tolist()}\")"
   ]
  },
  {
   "cell_type": "code",
   "execution_count": 138,
   "id": "ddd50fbd",
   "metadata": {},
   "outputs": [],
   "source": [
    "train_gr = train.groupby('Record Number').agg(lambda x: list(x))"
   ]
  },
  {
   "cell_type": "code",
   "execution_count": 139,
   "id": "bc432bcd",
   "metadata": {},
   "outputs": [],
   "source": [
    "df_train, df_val = train_test_split(train_gr, test_size=0.2)\n",
    "df_val, df_test = train_test_split(df_val, test_size=0.5)\n",
    "train_gr['mode'] = 0\n",
    "train_gr.loc[df_val.index, 'mode'] = 1\n",
    "train_gr.loc[df_test.index, 'mode'] = 2"
   ]
  },
  {
   "cell_type": "code",
   "execution_count": 140,
   "id": "c18baf30",
   "metadata": {},
   "outputs": [],
   "source": [
    "tags = [y for x in df_train['Tag'].values for y in x]\n",
    "assert len(set(tags)) == 32+1\n",
    "cnt = collections.Counter(tags)"
   ]
  },
  {
   "cell_type": "code",
   "execution_count": 141,
   "id": "7b1024fd",
   "metadata": {},
   "outputs": [
    {
     "data": {
      "text/html": [
       "<div>\n",
       "<style scoped>\n",
       "    .dataframe tbody tr th:only-of-type {\n",
       "        vertical-align: middle;\n",
       "    }\n",
       "\n",
       "    .dataframe tbody tr th {\n",
       "        vertical-align: top;\n",
       "    }\n",
       "\n",
       "    .dataframe thead th {\n",
       "        text-align: right;\n",
       "    }\n",
       "</style>\n",
       "<table border=\"1\" class=\"dataframe\">\n",
       "  <thead>\n",
       "    <tr style=\"text-align: right;\">\n",
       "      <th></th>\n",
       "      <th>Title</th>\n",
       "      <th>Token</th>\n",
       "      <th>Tag</th>\n",
       "      <th>fill</th>\n",
       "      <th>mode</th>\n",
       "    </tr>\n",
       "    <tr>\n",
       "      <th>Record Number</th>\n",
       "      <th></th>\n",
       "      <th></th>\n",
       "      <th></th>\n",
       "      <th></th>\n",
       "      <th></th>\n",
       "    </tr>\n",
       "  </thead>\n",
       "  <tbody>\n",
       "    <tr>\n",
       "      <th>1</th>\n",
       "      <td>[LOUIS VUITTON M40096 Handbag Priscilla Multi-...</td>\n",
       "      <td>[LOUIS, VUITTON, M40096, Handbag, Priscilla, M...</td>\n",
       "      <td>[Brand, UNK, MPN, Type, Model, Color, Fabric T...</td>\n",
       "      <td>[0, 1, 0, 0, 0, 0, 0, 0, 0]</td>\n",
       "      <td>1</td>\n",
       "    </tr>\n",
       "    <tr>\n",
       "      <th>10</th>\n",
       "      <td>[Gucci White \" HoBo \" Vintage Handbag Authenti...</td>\n",
       "      <td>[Gucci, White, \", HoBo, \", Vintage, Handbag, A...</td>\n",
       "      <td>[Brand, Color, No Tag, Type, No Tag, No Tag, T...</td>\n",
       "      <td>[0, 0, 0, 0, 0, 0, 0, 0, 0, 0, 0, 0, 0, 0]</td>\n",
       "      <td>0</td>\n",
       "    </tr>\n",
       "    <tr>\n",
       "      <th>100</th>\n",
       "      <td>[Gucci Black GG Monogram Half Moon Small Pouch...</td>\n",
       "      <td>[Gucci, Black, GG, Monogram, Half, Moon, Small...</td>\n",
       "      <td>[Brand, Color, Brand, Pattern, Features, UNK, ...</td>\n",
       "      <td>[0, 0, 0, 0, 0, 1, 0, 0, 0, 0, 0, 0, 0, 0, 0]</td>\n",
       "      <td>0</td>\n",
       "    </tr>\n",
       "    <tr>\n",
       "      <th>1000</th>\n",
       "      <td>[CHANEL Quilted Matelasse CC Logo Lambskin Cha...</td>\n",
       "      <td>[CHANEL, Quilted, Matelasse, CC, Logo, Lambski...</td>\n",
       "      <td>[Brand, Features, Pattern, Accents, UNK, Mater...</td>\n",
       "      <td>[0, 0, 0, 0, 1, 0, 0, 0, 0, 0, 0, 0, 0]</td>\n",
       "      <td>0</td>\n",
       "    </tr>\n",
       "    <tr>\n",
       "      <th>1001</th>\n",
       "      <td>[New Kate Spade Staci Medium Satchel Leather W...</td>\n",
       "      <td>[New, Kate, Spade, Staci, Medium, Satchel, Lea...</td>\n",
       "      <td>[No Tag, Brand, UNK, Model, Size, Type, Materi...</td>\n",
       "      <td>[0, 0, 1, 0, 0, 0, 0, 0, 0, 0]</td>\n",
       "      <td>0</td>\n",
       "    </tr>\n",
       "  </tbody>\n",
       "</table>\n",
       "</div>"
      ],
      "text/plain": [
       "                                                           Title  \\\n",
       "Record Number                                                      \n",
       "1              [LOUIS VUITTON M40096 Handbag Priscilla Multi-...   \n",
       "10             [Gucci White \" HoBo \" Vintage Handbag Authenti...   \n",
       "100            [Gucci Black GG Monogram Half Moon Small Pouch...   \n",
       "1000           [CHANEL Quilted Matelasse CC Logo Lambskin Cha...   \n",
       "1001           [New Kate Spade Staci Medium Satchel Leather W...   \n",
       "\n",
       "                                                           Token  \\\n",
       "Record Number                                                      \n",
       "1              [LOUIS, VUITTON, M40096, Handbag, Priscilla, M...   \n",
       "10             [Gucci, White, \", HoBo, \", Vintage, Handbag, A...   \n",
       "100            [Gucci, Black, GG, Monogram, Half, Moon, Small...   \n",
       "1000           [CHANEL, Quilted, Matelasse, CC, Logo, Lambski...   \n",
       "1001           [New, Kate, Spade, Staci, Medium, Satchel, Lea...   \n",
       "\n",
       "                                                             Tag  \\\n",
       "Record Number                                                      \n",
       "1              [Brand, UNK, MPN, Type, Model, Color, Fabric T...   \n",
       "10             [Brand, Color, No Tag, Type, No Tag, No Tag, T...   \n",
       "100            [Brand, Color, Brand, Pattern, Features, UNK, ...   \n",
       "1000           [Brand, Features, Pattern, Accents, UNK, Mater...   \n",
       "1001           [No Tag, Brand, UNK, Model, Size, Type, Materi...   \n",
       "\n",
       "                                                        fill  mode  \n",
       "Record Number                                                       \n",
       "1                                [0, 1, 0, 0, 0, 0, 0, 0, 0]     1  \n",
       "10                [0, 0, 0, 0, 0, 0, 0, 0, 0, 0, 0, 0, 0, 0]     0  \n",
       "100            [0, 0, 0, 0, 0, 1, 0, 0, 0, 0, 0, 0, 0, 0, 0]     0  \n",
       "1000                 [0, 0, 0, 0, 1, 0, 0, 0, 0, 0, 0, 0, 0]     0  \n",
       "1001                          [0, 0, 1, 0, 0, 0, 0, 0, 0, 0]     0  "
      ]
     },
     "execution_count": 141,
     "metadata": {},
     "output_type": "execute_result"
    }
   ],
   "source": [
    "train_gr.head()"
   ]
  },
  {
   "cell_type": "code",
   "execution_count": 142,
   "id": "a0334284",
   "metadata": {},
   "outputs": [],
   "source": [
    "train_gr.to_csv('./dataset/ebay/train_gr.csv', index=False)"
   ]
  },
  {
   "cell_type": "code",
   "execution_count": 143,
   "id": "adb84d15",
   "metadata": {},
   "outputs": [],
   "source": [
    "tag2idx = {x:i for i, x in enumerate(sorted([x for x in train['Tag'].unique() if x != 'UNK']))}\n",
    "np.save('./dataset/ebay/tag2idx.npy', tag2idx)"
   ]
  },
  {
   "cell_type": "code",
   "execution_count": 89,
   "id": "ebc8e78a",
   "metadata": {},
   "outputs": [],
   "source": [
    "columns = open('./dataset/ebay/Listing_Titles.tsv').readlines()[0].strip().split('\\t')\n",
    "data = []\n",
    "for line in open('./dataset/ebay/Listing_Titles.tsv').readlines()[1:30005]:\n",
    "    data.append(line.strip().split('\\t'))\n",
    "quiz = pd.DataFrame(data, columns=columns)"
   ]
  },
  {
   "cell_type": "code",
   "execution_count": 93,
   "id": "6f6ed3e4",
   "metadata": {},
   "outputs": [],
   "source": [
    "quiz['Record Number'] = quiz['Record Number'].astype(int)"
   ]
  },
  {
   "cell_type": "code",
   "execution_count": 94,
   "id": "5f9f603d",
   "metadata": {},
   "outputs": [],
   "source": [
    "quiz = quiz[(quiz['Record Number']>=5001)&(quiz['Record Number']<=30000)]"
   ]
  },
  {
   "cell_type": "code",
   "execution_count": 95,
   "id": "84675ed9",
   "metadata": {},
   "outputs": [
    {
     "data": {
      "text/html": [
       "<div>\n",
       "<style scoped>\n",
       "    .dataframe tbody tr th:only-of-type {\n",
       "        vertical-align: middle;\n",
       "    }\n",
       "\n",
       "    .dataframe tbody tr th {\n",
       "        vertical-align: top;\n",
       "    }\n",
       "\n",
       "    .dataframe thead th {\n",
       "        text-align: right;\n",
       "    }\n",
       "</style>\n",
       "<table border=\"1\" class=\"dataframe\">\n",
       "  <thead>\n",
       "    <tr style=\"text-align: right;\">\n",
       "      <th></th>\n",
       "      <th>Record Number</th>\n",
       "      <th>Title</th>\n",
       "    </tr>\n",
       "  </thead>\n",
       "  <tbody>\n",
       "    <tr>\n",
       "      <th>5000</th>\n",
       "      <td>5001</td>\n",
       "      <td>SALE ! Kamen Rider Gaim Belt Set No. 802</td>\n",
       "    </tr>\n",
       "    <tr>\n",
       "      <th>5001</th>\n",
       "      <td>5002</td>\n",
       "      <td>HOBO INTERNATIONAL Women 's VINTAGE LEATHER Sh...</td>\n",
       "    </tr>\n",
       "    <tr>\n",
       "      <th>5002</th>\n",
       "      <td>5003</td>\n",
       "      <td>Coach Peyton Brown and Tan Signature C Shoulde...</td>\n",
       "    </tr>\n",
       "    <tr>\n",
       "      <th>5003</th>\n",
       "      <td>5004</td>\n",
       "      <td>MZ WALLACE Metro tote gray quilted nylon purse</td>\n",
       "    </tr>\n",
       "    <tr>\n",
       "      <th>5004</th>\n",
       "      <td>5005</td>\n",
       "      <td>Women Fashion Sequins Backpack Travel PU Handb...</td>\n",
       "    </tr>\n",
       "    <tr>\n",
       "      <th>...</th>\n",
       "      <td>...</td>\n",
       "      <td>...</td>\n",
       "    </tr>\n",
       "    <tr>\n",
       "      <th>29995</th>\n",
       "      <td>29996</td>\n",
       "      <td>Auth LOUIS VUITTON Popincourt Haut Shoulder Ba...</td>\n",
       "    </tr>\n",
       "    <tr>\n",
       "      <th>29996</th>\n",
       "      <td>29997</td>\n",
       "      <td>Blackheath Book Shop Bag</td>\n",
       "    </tr>\n",
       "    <tr>\n",
       "      <th>29997</th>\n",
       "      <td>29998</td>\n",
       "      <td>Brighton Piatto Medium Organizer Embroidered L...</td>\n",
       "    </tr>\n",
       "    <tr>\n",
       "      <th>29998</th>\n",
       "      <td>29999</td>\n",
       "      <td>Jaald 13 \" Leather Satchel Genuine Leather Mes...</td>\n",
       "    </tr>\n",
       "    <tr>\n",
       "      <th>29999</th>\n",
       "      <td>30000</td>\n",
       "      <td>BELLA TAYLOR PATCHWORK QUILTED BLAKELY SMALL /...</td>\n",
       "    </tr>\n",
       "  </tbody>\n",
       "</table>\n",
       "<p>25000 rows × 2 columns</p>\n",
       "</div>"
      ],
      "text/plain": [
       "       Record Number                                              Title\n",
       "5000            5001           SALE ! Kamen Rider Gaim Belt Set No. 802\n",
       "5001            5002  HOBO INTERNATIONAL Women 's VINTAGE LEATHER Sh...\n",
       "5002            5003  Coach Peyton Brown and Tan Signature C Shoulde...\n",
       "5003            5004     MZ WALLACE Metro tote gray quilted nylon purse\n",
       "5004            5005  Women Fashion Sequins Backpack Travel PU Handb...\n",
       "...              ...                                                ...\n",
       "29995          29996  Auth LOUIS VUITTON Popincourt Haut Shoulder Ba...\n",
       "29996          29997                           Blackheath Book Shop Bag\n",
       "29997          29998  Brighton Piatto Medium Organizer Embroidered L...\n",
       "29998          29999  Jaald 13 \" Leather Satchel Genuine Leather Mes...\n",
       "29999          30000  BELLA TAYLOR PATCHWORK QUILTED BLAKELY SMALL /...\n",
       "\n",
       "[25000 rows x 2 columns]"
      ]
     },
     "execution_count": 95,
     "metadata": {},
     "output_type": "execute_result"
    }
   ],
   "source": [
    "quiz"
   ]
  },
  {
   "cell_type": "code",
   "execution_count": 96,
   "id": "a1ad29df",
   "metadata": {},
   "outputs": [],
   "source": [
    "quiz.to_csv('./dataset/ebay/quiz.csv', index=False)"
   ]
  },
  {
   "cell_type": "markdown",
   "id": "2b2840d2",
   "metadata": {},
   "source": [
    "Extract unlabeled images"
   ]
  },
  {
   "cell_type": "code",
   "execution_count": 10,
   "id": "735f6eb5",
   "metadata": {},
   "outputs": [],
   "source": [
    "columns = open('./dataset/ebay/Listing_Titles.tsv').readlines()[0].strip().split('\\t')\n",
    "data = []\n",
    "for line in open('./dataset/ebay/Listing_Titles.tsv').readlines()[30005:50000]:\n",
    "    data.append(line.strip().split('\\t'))\n",
    "quiz = pd.DataFrame(data, columns=columns)"
   ]
  },
  {
   "cell_type": "code",
   "execution_count": 11,
   "id": "eb2716ee",
   "metadata": {},
   "outputs": [],
   "source": [
    "quiz['Record Number'] = quiz['Record Number'].astype(int)"
   ]
  },
  {
   "cell_type": "code",
   "execution_count": 12,
   "id": "b489bf4a",
   "metadata": {},
   "outputs": [],
   "source": [
    "quiz = quiz[quiz['Record Number']>30000]"
   ]
  },
  {
   "cell_type": "code",
   "execution_count": 14,
   "id": "72cd67a2",
   "metadata": {},
   "outputs": [],
   "source": [
    "quiz.to_csv('./dataset/ebay/addon.csv', index=False)"
   ]
  },
  {
   "cell_type": "code",
   "execution_count": null,
   "id": "89bc74a8",
   "metadata": {},
   "outputs": [],
   "source": []
  }
 ],
 "metadata": {
  "kernelspec": {
   "display_name": "Python 3.9.7 ('base')",
   "language": "python",
   "name": "python3"
  },
  "language_info": {
   "codemirror_mode": {
    "name": "ipython",
    "version": 3
   },
   "file_extension": ".py",
   "mimetype": "text/x-python",
   "name": "python",
   "nbconvert_exporter": "python",
   "pygments_lexer": "ipython3",
   "version": "3.9.7"
  },
  "vscode": {
   "interpreter": {
    "hash": "68cd8438c304148338ee11acf98ff2a188eb55d0512910b39478630f0f72b316"
   }
  }
 },
 "nbformat": 4,
 "nbformat_minor": 5
}
